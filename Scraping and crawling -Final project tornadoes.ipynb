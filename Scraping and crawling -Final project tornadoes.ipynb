{
 "cells": [
  {
   "cell_type": "code",
   "execution_count": null,
   "id": "c7d09867",
   "metadata": {},
   "outputs": [],
   "source": [
    "from selenium import webdriver\n",
    "from selenium.webdriver.chrome.options import Options\n",
    "\n",
    "import pandas as pd\n",
    "import numpy as np"
   ]
  },
  {
   "cell_type": "code",
   "execution_count": null,
   "id": "9651a1d9",
   "metadata": {},
   "outputs": [],
   "source": [
    "options = Options()\n",
    "options.add_argument(\"--window-size=1920,1200\")\n",
    "\n",
    "DRIVER_PATH = './chromedriver.exe'\n",
    "driver = webdriver.Chrome(options = options, executable_path=DRIVER_PATH)\n",
    "States = []\n",
    "homePageURL = \"https://data.elpasotimes.com/tornado-archive/\"\n",
    "driver.get(homePageURL)\n",
    "statesElements = driver.find_elements_by_xpath(\"//*[@id='tornadoState']/option\")\n",
    "for stateElement in statesElements:\n",
    "    States.append(stateElement.get_attribute(\"value\"))"
   ]
  },
  {
   "cell_type": "code",
   "execution_count": null,
   "id": "33b7eb44",
   "metadata": {},
   "outputs": [],
   "source": [
    "Day = []\n",
    "State = []\n",
    "Year = []\n",
    "FScale = []\n",
    "Length = []\n",
    "Width = []\n",
    "Injury = []\n",
    "Fatality = []\n",
    "PropartyDamage = []\n",
    "date = \"\"\n",
    "for state in States:\n",
    "    years = []\n",
    "    baseURL = f'https://data.elpasotimes.com/tornado-archive/{state}/'\n",
    "    driver.get(baseURL)\n",
    "    yearss = driver.find_elements_by_xpath('//*[@id=\"tornadoSummary\"]/tbody/tr')\n",
    "    for y in yearss:\n",
    "        years.append(y.find_element_by_xpath(\"./td[1]/a\").text)\n",
    "    years.pop(0)\n",
    "    for year in years:\n",
    "            baseURL=f'https://data.elpasotimes.com/tornado-archive/{state}/{year}/'\n",
    "            driver.get(baseURL)\n",
    "            table = driver.find_elements_by_xpath('//*[@id=\"YearTornado\"]/tbody/tr')\n",
    "            for item in table:\n",
    "                date = item.find_element_by_xpath(\"./td[1]/a\").text\n",
    "                indices = [0,7,9,14]\n",
    "                parts = [date[i:j] for i,j in zip(indices, indices[1:]+[None])]\n",
    "                Day.append(parts[0])\n",
    "                Year.append(parts[2])\n",
    "                FScale.append(item.find_element_by_xpath(\"./td[2]\").text)\n",
    "                Length.append(item.find_element_by_xpath(\"./td[3]\").text)\n",
    "                Width.append(item.find_element_by_xpath(\"./td[4]\").text)\n",
    "                Injury.append(item.find_element_by_xpath(\"./td[5]\").text)\n",
    "                Fatality.append(item.find_element_by_xpath(\"./td[6]\").text)\n",
    "                PropartyDamage.append(item.find_element_by_xpath(\"./td[7]\").text)\n",
    "                State.append(state)\n",
    "finalAllStatedDF = pd.DataFrame({\"Month-Day\":Day,\"Year\":Year,'F Scale': FScale,'Length(in miles)': Length,'Width(in feet)': Width,'Injury': Injury,'Fatality': Fatality,'Proparty damage': PropartyDamage,\"State\":State})\n",
    "driver.close()\n",
    "finalAllStatedDF.to_csv(\"finalAllStates.csv\",index=False)\n",
    "finalAllStatedDF"
   ]
  }
 ],
 "metadata": {
  "kernelspec": {
   "display_name": "Python 3",
   "language": "python",
   "name": "python3"
  },
  "language_info": {
   "codemirror_mode": {
    "name": "ipython",
    "version": 3
   },
   "file_extension": ".py",
   "mimetype": "text/x-python",
   "name": "python",
   "nbconvert_exporter": "python",
   "pygments_lexer": "ipython3",
   "version": "3.8.8"
  }
 },
 "nbformat": 4,
 "nbformat_minor": 5
}
