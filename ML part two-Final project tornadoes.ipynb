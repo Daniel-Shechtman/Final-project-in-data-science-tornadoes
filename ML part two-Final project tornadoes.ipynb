{
 "cells": [
  {
   "cell_type": "code",
   "execution_count": 8,
   "id": "f103e6e7",
   "metadata": {},
   "outputs": [],
   "source": [
    "import numpy as np\n",
    "import pandas as pd\n",
    "from sklearn.linear_model import LinearRegression , LogisticRegression\n",
    "from sklearn.preprocessing import MinMaxScaler, StandardScaler, normalize\n",
    "from sklearn.model_selection import train_test_split\n"
   ]
  },
  {
   "cell_type": "code",
   "execution_count": 250,
   "id": "f1fae1ac",
   "metadata": {},
   "outputs": [
    {
     "data": {
      "text/html": [
       "<div>\n",
       "<style scoped>\n",
       "    .dataframe tbody tr th:only-of-type {\n",
       "        vertical-align: middle;\n",
       "    }\n",
       "\n",
       "    .dataframe tbody tr th {\n",
       "        vertical-align: top;\n",
       "    }\n",
       "\n",
       "    .dataframe thead th {\n",
       "        text-align: right;\n",
       "    }\n",
       "</style>\n",
       "<table border=\"1\" class=\"dataframe\">\n",
       "  <thead>\n",
       "    <tr style=\"text-align: right;\">\n",
       "      <th></th>\n",
       "      <th>Year</th>\n",
       "      <th>F Scale</th>\n",
       "      <th>Length(in miles)</th>\n",
       "      <th>Width(in feet)</th>\n",
       "      <th>Injury</th>\n",
       "      <th>Fatality</th>\n",
       "      <th>Proparty damage (in $)</th>\n",
       "      <th>State</th>\n",
       "    </tr>\n",
       "  </thead>\n",
       "  <tbody>\n",
       "    <tr>\n",
       "      <th>Year</th>\n",
       "      <td>1.000000</td>\n",
       "      <td>-0.276316</td>\n",
       "      <td>-0.075412</td>\n",
       "      <td>0.135369</td>\n",
       "      <td>-0.040949</td>\n",
       "      <td>-0.033912</td>\n",
       "      <td>0.024739</td>\n",
       "      <td>-0.018744</td>\n",
       "    </tr>\n",
       "    <tr>\n",
       "      <th>F Scale</th>\n",
       "      <td>-0.276316</td>\n",
       "      <td>1.000000</td>\n",
       "      <td>0.334730</td>\n",
       "      <td>0.354135</td>\n",
       "      <td>0.205493</td>\n",
       "      <td>0.177662</td>\n",
       "      <td>0.124458</td>\n",
       "      <td>-0.000939</td>\n",
       "    </tr>\n",
       "    <tr>\n",
       "      <th>Length(in miles)</th>\n",
       "      <td>-0.075412</td>\n",
       "      <td>0.334730</td>\n",
       "      <td>1.000000</td>\n",
       "      <td>0.273931</td>\n",
       "      <td>0.117053</td>\n",
       "      <td>0.093946</td>\n",
       "      <td>0.075180</td>\n",
       "      <td>-0.025236</td>\n",
       "    </tr>\n",
       "    <tr>\n",
       "      <th>Width(in feet)</th>\n",
       "      <td>0.135369</td>\n",
       "      <td>0.354135</td>\n",
       "      <td>0.273931</td>\n",
       "      <td>1.000000</td>\n",
       "      <td>0.166987</td>\n",
       "      <td>0.148113</td>\n",
       "      <td>0.157829</td>\n",
       "      <td>-0.010233</td>\n",
       "    </tr>\n",
       "    <tr>\n",
       "      <th>Injury</th>\n",
       "      <td>-0.040949</td>\n",
       "      <td>0.205493</td>\n",
       "      <td>0.117053</td>\n",
       "      <td>0.166987</td>\n",
       "      <td>1.000000</td>\n",
       "      <td>0.741202</td>\n",
       "      <td>0.440782</td>\n",
       "      <td>-0.009487</td>\n",
       "    </tr>\n",
       "    <tr>\n",
       "      <th>Fatality</th>\n",
       "      <td>-0.033912</td>\n",
       "      <td>0.177662</td>\n",
       "      <td>0.093946</td>\n",
       "      <td>0.148113</td>\n",
       "      <td>0.741202</td>\n",
       "      <td>1.000000</td>\n",
       "      <td>0.431124</td>\n",
       "      <td>-0.006942</td>\n",
       "    </tr>\n",
       "    <tr>\n",
       "      <th>Proparty damage (in $)</th>\n",
       "      <td>0.024739</td>\n",
       "      <td>0.124458</td>\n",
       "      <td>0.075180</td>\n",
       "      <td>0.157829</td>\n",
       "      <td>0.440782</td>\n",
       "      <td>0.431124</td>\n",
       "      <td>1.000000</td>\n",
       "      <td>-0.005599</td>\n",
       "    </tr>\n",
       "    <tr>\n",
       "      <th>State</th>\n",
       "      <td>-0.018744</td>\n",
       "      <td>-0.000939</td>\n",
       "      <td>-0.025236</td>\n",
       "      <td>-0.010233</td>\n",
       "      <td>-0.009487</td>\n",
       "      <td>-0.006942</td>\n",
       "      <td>-0.005599</td>\n",
       "      <td>1.000000</td>\n",
       "    </tr>\n",
       "  </tbody>\n",
       "</table>\n",
       "</div>"
      ],
      "text/plain": [
       "                            Year   F Scale  Length(in miles)  Width(in feet)  \\\n",
       "Year                    1.000000 -0.276316         -0.075412        0.135369   \n",
       "F Scale                -0.276316  1.000000          0.334730        0.354135   \n",
       "Length(in miles)       -0.075412  0.334730          1.000000        0.273931   \n",
       "Width(in feet)          0.135369  0.354135          0.273931        1.000000   \n",
       "Injury                 -0.040949  0.205493          0.117053        0.166987   \n",
       "Fatality               -0.033912  0.177662          0.093946        0.148113   \n",
       "Proparty damage (in $)  0.024739  0.124458          0.075180        0.157829   \n",
       "State                  -0.018744 -0.000939         -0.025236       -0.010233   \n",
       "\n",
       "                          Injury  Fatality  Proparty damage (in $)     State  \n",
       "Year                   -0.040949 -0.033912                0.024739 -0.018744  \n",
       "F Scale                 0.205493  0.177662                0.124458 -0.000939  \n",
       "Length(in miles)        0.117053  0.093946                0.075180 -0.025236  \n",
       "Width(in feet)          0.166987  0.148113                0.157829 -0.010233  \n",
       "Injury                  1.000000  0.741202                0.440782 -0.009487  \n",
       "Fatality                0.741202  1.000000                0.431124 -0.006942  \n",
       "Proparty damage (in $)  0.440782  0.431124                1.000000 -0.005599  \n",
       "State                  -0.009487 -0.006942               -0.005599  1.000000  "
      ]
     },
     "execution_count": 250,
     "metadata": {},
     "output_type": "execute_result"
    }
   ],
   "source": [
    "df = pd.read_csv('cleanAllStates.csv')\n",
    "df['State'] = le.fit_transform(df['State'])\n",
    "df.corr()\n"
   ]
  },
  {
   "cell_type": "code",
   "execution_count": 261,
   "id": "15f1665a",
   "metadata": {},
   "outputs": [
    {
     "name": "stdout",
     "output_type": "stream",
     "text": [
      "500.0 0.0\n"
     ]
    }
   ],
   "source": [
    "print(df['Length(in miles)'].max(),df['Length(in miles)'].min())"
   ]
  },
  {
   "cell_type": "code",
   "execution_count": 262,
   "id": "d36b8cdc",
   "metadata": {},
   "outputs": [
    {
     "name": "stdout",
     "output_type": "stream",
     "text": [
      "4576.0 0.0\n"
     ]
    }
   ],
   "source": [
    "print(df['Width(in feet)'].max() , df['Width(in feet)'].min())"
   ]
  },
  {
   "cell_type": "code",
   "execution_count": 21,
   "id": "bf8537fb",
   "metadata": {},
   "outputs": [],
   "source": [
    "X = alltornadoesDf[alltornadoesDf.columns[(alltornadoesDf.columns != 'F Scale') & (alltornadoesDf.columns != 'Month-Day\t') & (alltornadoesDf.columns != 'Year') & (alltornadoesDf.columns != 'State')]]\n",
    "target = \"F Scale\"\n",
    "y = alltornadoesDf[target]\n",
    "X_train, X_test, y_train, y_test = train_test_split(X, y, random_state=40, test_size=0.3)"
   ]
  },
  {
   "cell_type": "code",
   "execution_count": 17,
   "id": "6110d05a",
   "metadata": {},
   "outputs": [],
   "source": [
    "dtc = DecisionTreeClassifier(max_depth=4,min_samples_split=5)\n",
    "gnb =  GaussianNB()\n",
    "svc = SVC()\n",
    "dtcVal = cross_val_score(dtc, X_train, y_train, cv=10)\n",
    "gnbVal = cross_val_score(gnb, X_train, y_train, cv=10)\n",
    "svcVal = cross_val_score(svc, X_train, y_train, cv=10)\n",
    "maxDtc = dtcVal.mean()\n",
    "maxGnb = gnbVal.mean()\n",
    "maxSvc = svcVal.mean()"
   ]
  },
  {
   "cell_type": "code",
   "execution_count": 20,
   "id": "e8aa21db",
   "metadata": {},
   "outputs": [
    {
     "name": "stdout",
     "output_type": "stream",
     "text": [
      "0.7842998540619088\n"
     ]
    }
   ],
   "source": [
    "print(maxSvc)"
   ]
  },
  {
   "cell_type": "code",
   "execution_count": 196,
   "id": "5aa49088",
   "metadata": {},
   "outputs": [
    {
     "data": {
      "text/plain": [
       "array(['alabama', 'arizona', 'arkansas', 'california', 'colorado',\n",
       "       'connecticut', 'delaware', 'district-of-columbia', 'florida',\n",
       "       'georgia', 'hawaii', 'idaho', 'illinois', 'indiana', 'iowa',\n",
       "       'kansas', 'kentucky', 'louisiana', 'maine', 'maryland',\n",
       "       'massachusetts', 'michigan', 'minnesota', 'mississippi',\n",
       "       'missouri', 'montana', 'nebraska', 'nevada', 'new-hampshire',\n",
       "       'new-jersey', 'new-mexico', 'new-york', 'north-carolina',\n",
       "       'north-dakota', 'ohio', 'oklahoma', 'oregon', 'pennsylvania',\n",
       "       'rhode-island', 'south-carolina', 'south-dakota', 'tennessee',\n",
       "       'texas', 'utah', 'vermont', 'virginia', 'washington',\n",
       "       'west-virginia', 'wisconsin', 'wyoming'], dtype=object)"
      ]
     },
     "execution_count": 196,
     "metadata": {},
     "output_type": "execute_result"
    }
   ],
   "source": []
  },
  {
   "cell_type": "code",
   "execution_count": 13,
   "id": "72c01de5",
   "metadata": {},
   "outputs": [
    {
     "name": "stdout",
     "output_type": "stream",
     "text": [
      "Please enter Length(in miles) of the tornado (between 0-500): 1\n",
      "Please Width(in feet) of the tornado (between 0-4576): 1\n",
      "Length Width: (1.0,1.0): Low tornado intensity probability: 76.19%\n",
      "\t\t\tMedium tornado intensity probability: 22.70%\n",
      "\t\t\tHigh tornado intensity probability: 1.12%\n",
      "\n",
      "Please enter Length(in miles) of the tornado (between 0-500): 10\n",
      "Please enter  Width(in feet) of the tornado (between 0-4576):1\n",
      "\n",
      "\n",
      "Length Width: (10.0,1.0): Low tornado intensity probability: 5.19%\n",
      "\t\t\tMedium tornado intensity probability: 84.70%\n",
      "\t\t\tHigh tornado intensity probability: 10.11%\n",
      "\n",
      "Please enter Length(in miles) of the tornado (between 0-500): 1\n",
      "Please enter  Width(in feet) of the tornado (between 0-4576):10\n",
      "\n",
      "\n",
      "Length Width: (1.0,10.0): Low tornado intensity probability: 75.59%\n",
      "\t\t\tMedium tornado intensity probability: 23.24%\n",
      "\t\t\tHigh tornado intensity probability: 1.16%\n",
      "\n"
     ]
    },
    {
     "ename": "KeyboardInterrupt",
     "evalue": "Interrupted by user",
     "output_type": "error",
     "traceback": [
      "\u001b[1;31m---------------------------------------------------------------------------\u001b[0m",
      "\u001b[1;31mKeyboardInterrupt\u001b[0m                         Traceback (most recent call last)",
      "\u001b[1;32m<ipython-input-13-706b35db7db8>\u001b[0m in \u001b[0;36m<module>\u001b[1;34m\u001b[0m\n\u001b[0;32m     26\u001b[0m     \u001b[0mlowIntensity\u001b[0m\u001b[1;33m,\u001b[0m \u001b[0mmedIntensity\u001b[0m\u001b[1;33m,\u001b[0m \u001b[0mhighIntensity\u001b[0m \u001b[1;33m=\u001b[0m \u001b[0mpredicted_vals\u001b[0m\u001b[1;33m[\u001b[0m\u001b[1;36m0\u001b[0m\u001b[1;33m]\u001b[0m\u001b[1;33m*\u001b[0m\u001b[1;36m100\u001b[0m\u001b[1;33m,\u001b[0m \u001b[0mpredicted_vals\u001b[0m\u001b[1;33m[\u001b[0m\u001b[1;36m1\u001b[0m\u001b[1;33m]\u001b[0m\u001b[1;33m*\u001b[0m\u001b[1;36m100\u001b[0m\u001b[1;33m,\u001b[0m \u001b[0mpredicted_vals\u001b[0m\u001b[1;33m[\u001b[0m\u001b[1;36m2\u001b[0m\u001b[1;33m]\u001b[0m\u001b[1;33m*\u001b[0m\u001b[1;36m100\u001b[0m\u001b[1;33m\u001b[0m\u001b[1;33m\u001b[0m\u001b[0m\n\u001b[0;32m     27\u001b[0m     \u001b[0mprint\u001b[0m\u001b[1;33m(\u001b[0m\u001b[1;34m'Length Width: ({},{}): Low tornado intensity probability: {:.2f}%\\n\\t\\t\\tMedium tornado intensity probability: {:.2f}%\\n\\t\\t\\tHigh tornado intensity probability: {:.2f}%\\n'\u001b[0m\u001b[1;33m.\u001b[0m\u001b[0mformat\u001b[0m\u001b[1;33m(\u001b[0m\u001b[0mLength\u001b[0m\u001b[1;33m,\u001b[0m\u001b[0mWidth\u001b[0m\u001b[1;33m,\u001b[0m \u001b[0mlowIntensity\u001b[0m\u001b[1;33m,\u001b[0m\u001b[0mmedIntensity\u001b[0m\u001b[1;33m,\u001b[0m \u001b[0mhighIntensity\u001b[0m\u001b[1;33m)\u001b[0m\u001b[1;33m)\u001b[0m\u001b[1;33m\u001b[0m\u001b[1;33m\u001b[0m\u001b[0m\n\u001b[1;32m---> 28\u001b[1;33m     \u001b[0mLength\u001b[0m \u001b[1;33m=\u001b[0m \u001b[0mfloat\u001b[0m\u001b[1;33m(\u001b[0m\u001b[0minput\u001b[0m\u001b[1;33m(\u001b[0m\u001b[1;34m\"Please enter Length(in miles) of the tornado (between 0-500): \"\u001b[0m\u001b[1;33m)\u001b[0m\u001b[1;33m)\u001b[0m\u001b[1;33m\u001b[0m\u001b[1;33m\u001b[0m\u001b[0m\n\u001b[0m\u001b[0;32m     29\u001b[0m     \u001b[0mWidth\u001b[0m \u001b[1;33m=\u001b[0m \u001b[0mfloat\u001b[0m\u001b[1;33m(\u001b[0m\u001b[0minput\u001b[0m\u001b[1;33m(\u001b[0m\u001b[1;34m'Please enter  Width(in feet) of the tornado (between 0-4576):'\u001b[0m\u001b[1;33m)\u001b[0m\u001b[1;33m)\u001b[0m\u001b[1;33m\u001b[0m\u001b[1;33m\u001b[0m\u001b[0m\n\u001b[0;32m     30\u001b[0m     \u001b[0mprint\u001b[0m\u001b[1;33m(\u001b[0m\u001b[1;34m'\\n'\u001b[0m\u001b[1;33m)\u001b[0m\u001b[1;33m\u001b[0m\u001b[1;33m\u001b[0m\u001b[0m\n",
      "\u001b[1;32m~\\anaconda3\\lib\\site-packages\\ipykernel\\kernelbase.py\u001b[0m in \u001b[0;36mraw_input\u001b[1;34m(self, prompt)\u001b[0m\n\u001b[0;32m    858\u001b[0m                 \u001b[1;34m\"raw_input was called, but this frontend does not support input requests.\"\u001b[0m\u001b[1;33m\u001b[0m\u001b[1;33m\u001b[0m\u001b[0m\n\u001b[0;32m    859\u001b[0m             )\n\u001b[1;32m--> 860\u001b[1;33m         return self._input_request(str(prompt),\n\u001b[0m\u001b[0;32m    861\u001b[0m             \u001b[0mself\u001b[0m\u001b[1;33m.\u001b[0m\u001b[0m_parent_ident\u001b[0m\u001b[1;33m,\u001b[0m\u001b[1;33m\u001b[0m\u001b[1;33m\u001b[0m\u001b[0m\n\u001b[0;32m    862\u001b[0m             \u001b[0mself\u001b[0m\u001b[1;33m.\u001b[0m\u001b[0m_parent_header\u001b[0m\u001b[1;33m,\u001b[0m\u001b[1;33m\u001b[0m\u001b[1;33m\u001b[0m\u001b[0m\n",
      "\u001b[1;32m~\\anaconda3\\lib\\site-packages\\ipykernel\\kernelbase.py\u001b[0m in \u001b[0;36m_input_request\u001b[1;34m(self, prompt, ident, parent, password)\u001b[0m\n\u001b[0;32m    902\u001b[0m             \u001b[1;32mexcept\u001b[0m \u001b[0mKeyboardInterrupt\u001b[0m\u001b[1;33m:\u001b[0m\u001b[1;33m\u001b[0m\u001b[1;33m\u001b[0m\u001b[0m\n\u001b[0;32m    903\u001b[0m                 \u001b[1;31m# re-raise KeyboardInterrupt, to truncate traceback\u001b[0m\u001b[1;33m\u001b[0m\u001b[1;33m\u001b[0m\u001b[1;33m\u001b[0m\u001b[0m\n\u001b[1;32m--> 904\u001b[1;33m                 \u001b[1;32mraise\u001b[0m \u001b[0mKeyboardInterrupt\u001b[0m\u001b[1;33m(\u001b[0m\u001b[1;34m\"Interrupted by user\"\u001b[0m\u001b[1;33m)\u001b[0m \u001b[1;32mfrom\u001b[0m \u001b[1;32mNone\u001b[0m\u001b[1;33m\u001b[0m\u001b[1;33m\u001b[0m\u001b[0m\n\u001b[0m\u001b[0;32m    905\u001b[0m             \u001b[1;32mexcept\u001b[0m \u001b[0mException\u001b[0m \u001b[1;32mas\u001b[0m \u001b[0me\u001b[0m\u001b[1;33m:\u001b[0m\u001b[1;33m\u001b[0m\u001b[1;33m\u001b[0m\u001b[0m\n\u001b[0;32m    906\u001b[0m                 \u001b[0mself\u001b[0m\u001b[1;33m.\u001b[0m\u001b[0mlog\u001b[0m\u001b[1;33m.\u001b[0m\u001b[0mwarning\u001b[0m\u001b[1;33m(\u001b[0m\u001b[1;34m\"Invalid Message:\"\u001b[0m\u001b[1;33m,\u001b[0m \u001b[0mexc_info\u001b[0m\u001b[1;33m=\u001b[0m\u001b[1;32mTrue\u001b[0m\u001b[1;33m)\u001b[0m\u001b[1;33m\u001b[0m\u001b[1;33m\u001b[0m\u001b[0m\n",
      "\u001b[1;31mKeyboardInterrupt\u001b[0m: Interrupted by user"
     ]
    }
   ],
   "source": [
    "df = pd.read_csv('cleanAllStates.csv')\n",
    "df_FScale_0 = df[df['F Scale']==0].reset_index(drop=True)\n",
    "df_FScale_1 = df[df['F Scale']==1].reset_index(drop=True)\n",
    "df_FScale_2 = df[df['F Scale']==2].reset_index(drop=True)\n",
    "df_FScale_0['TornadoLvl'] = 0\n",
    "df_FScale_1['TornadoLvl'] = 1\n",
    "df_FScale_2['TornadoLvl'] = 2\n",
    "df = pd.concat([df_FScale_0, df_FScale_1,df_FScale_2], ignore_index=True).drop(['F Scale'], axis=1)\n",
    "\n",
    "X = df[df.columns[(df.columns != 'Month-Day') & (df.columns != 'Year') & (df.columns != 'TornadoLvl') &\n",
    "                 (df.columns != 'Proparty damage (in $)') & (df.columns != 'State') & \n",
    "                 (df.columns != 'Injury') & (df.columns != 'Fatality')]]\n",
    "\n",
    "y = df['TornadoLvl']\n",
    "X_train, X_test, y_train, y_test = train_test_split(X, y, test_size=0.2, random_state=40)\n",
    "\n",
    "scaler = MinMaxScaler(feature_range=(-2,2))\n",
    "\n",
    "X_train_scaled = scaler.fit_transform(X_train)\n",
    "\n",
    "model = LogisticRegression().fit(X_train_scaled, y_train)\n",
    "\n",
    "scaler.fit(X_test)\n",
    "Length = float(input(\"Please enter Length(in miles) of the tornado (between 0-500): \"))\n",
    "Width = float(input('Please Width(in feet) of the tornado (between 0-4576): '))\n",
    "LenWid = scaler.transform([[Length,Width]])\n",
    "predicted_vals = model.predict_proba(LenWid)[0]\n",
    "while(0<=Length<=500 and 0<=Width<=4575):\n",
    "    lowIntensity, medIntensity, highIntensity = predicted_vals[0]*100, predicted_vals[1]*100, predicted_vals[2]*100\n",
    "    print('Length , Width: ({},{}): Low tornado intensity probability: {:.2f}%\\n\\t\\t\\tMedium tornado intensity probability: {:.2f}%\\n\\t\\t\\tHigh tornado intensity probability: {:.2f}%\\n'.format(Length,Width, lowIntensity,medIntensity, highIntensity))\n",
    "    Length = float(input(\"Please enter Length(in miles) of the tornado (between 0-500): \"))\n",
    "    Width = float(input('Please enter  Width(in feet) of the tornado (between 0-4576):'))\n",
    "    print('\\n')\n",
    "    LenWid = scaler.transform([[Length,Width]])\n",
    "    predicted_vals = model.predict_proba(LenWid)[0]\n",
    "print('Input is out of range!')"
   ]
  }
 ],
 "metadata": {
  "kernelspec": {
   "display_name": "Python 3",
   "language": "python",
   "name": "python3"
  },
  "language_info": {
   "codemirror_mode": {
    "name": "ipython",
    "version": 3
   },
   "file_extension": ".py",
   "mimetype": "text/x-python",
   "name": "python",
   "nbconvert_exporter": "python",
   "pygments_lexer": "ipython3",
   "version": "3.8.8"
  }
 },
 "nbformat": 4,
 "nbformat_minor": 5
}
